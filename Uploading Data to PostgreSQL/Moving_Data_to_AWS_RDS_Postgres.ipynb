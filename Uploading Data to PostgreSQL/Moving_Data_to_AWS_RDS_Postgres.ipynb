{
 "cells": [
  {
   "cell_type": "markdown",
   "metadata": {},
   "source": [
    "# Arvo to PostgreSQL\n",
    "\n",
    "## Generating a fully-functional CSV. (Err... repairing)\n",
    "\n",
    "When my database processing script ran and saved as CSV something happened and corrupted the CSV. \n",
    "\n",
    "As a result it only contained 44,000 rows. \n",
    "\n",
    "Luckily I also saved a version as a .avro file. \n",
    "\n",
    "Here's the steps I took to make this work. \n",
    "* I pulled the .avro file into pandas. \n",
    "* Traverse the array cell by cell and ensure that it is endcoding correctly.  \n",
    "* Then I processed the file into a CSV.\n",
    "* Used my terminal & psql to send the csv to our AWS RDS PostgreSQL instance.\n",
    "\n",
    "Here's the terminal commands I used to upload the CSV:\n",
    "\n",
    "``` sh\n",
    "foo@bar:~$ brew install postgres\n",
    "\n",
    "foo@bar:~$ sudo mkdir -p /etc/paths.d && echo /Applications/Postgres.app/Contents/Versions/latest/bin | sudo tee /etc/paths.d/postgresapp\n",
    "\n",
    "foo@bar:~$ psql \"host=awsinstancename.awslocation.rds.amazonaws.com port=5432 dbname=lambdaRPG user=lambdaRPG\"\n",
    "\n",
    "foo@bar:~$ lambdaRPG=> \\copy commentor_data (commentor, commentor_sentiment, commentor_total_happyness, commentor_total_saltiness, commentor_upvotes_mean, commentor_upvotes_total, qty_non_salty_comments, qty_salty_comments, salty_comments, sweet_comments, total_comments) from 'commentor_data.csv' CSV HEADER;\n",
    "COPY 183926\n",
    "```\n",
    "\n",
    "I will likely always export my important df outputs to more than one filetype from now on as a precaution (in my personal projects). "
   ]
  },
  {
   "cell_type": "markdown",
   "metadata": {},
   "source": [
    "### Import and install packages"
   ]
  },
  {
   "cell_type": "code",
   "execution_count": 1,
   "metadata": {},
   "outputs": [],
   "source": [
    "#!pip install pandavro\n",
    "import pandas as pd\n",
    "import sqlite3\n",
    "import psycopg2\n",
    "import pandavro as pdx\n",
    "import sqlalchemy\n",
    "from sqlalchemy import create_engine\n",
    "from sqlite3 import dbapi2 as sqlite\n",
    "from tqdm import tqdm, tqdm_pandas\n",
    "import pandavro as pdx"
   ]
  },
  {
   "cell_type": "markdown",
   "metadata": {},
   "source": [
    "### Import and check dataframe shape"
   ]
  },
  {
   "cell_type": "code",
   "execution_count": 2,
   "metadata": {},
   "outputs": [
    {
     "data": {
      "text/plain": [
       "(183926, 11)"
      ]
     },
     "execution_count": 2,
     "metadata": {},
     "output_type": "execute_result"
    }
   ],
   "source": [
    "df = pdx.read_avro('data/hn_commentors_db.avro')\n",
    "df.shape"
   ]
  },
  {
   "cell_type": "code",
   "execution_count": 3,
   "metadata": {},
   "outputs": [
    {
     "data": {
      "text/html": [
       "<div>\n",
       "<style scoped>\n",
       "    .dataframe tbody tr th:only-of-type {\n",
       "        vertical-align: middle;\n",
       "    }\n",
       "\n",
       "    .dataframe tbody tr th {\n",
       "        vertical-align: top;\n",
       "    }\n",
       "\n",
       "    .dataframe thead th {\n",
       "        text-align: right;\n",
       "    }\n",
       "</style>\n",
       "<table border=\"1\" class=\"dataframe\">\n",
       "  <thead>\n",
       "    <tr style=\"text-align: right;\">\n",
       "      <th></th>\n",
       "      <th>commentor</th>\n",
       "      <th>commentor_sentiment</th>\n",
       "      <th>commentor_total_happyness</th>\n",
       "      <th>commentor_total_saltiness</th>\n",
       "      <th>commentor_upvotes_mean</th>\n",
       "      <th>commentor_upvotes_total</th>\n",
       "      <th>qty_non_salty_comments</th>\n",
       "      <th>qty_salty_comments</th>\n",
       "      <th>salty_comments</th>\n",
       "      <th>sweet_comments</th>\n",
       "      <th>total_comments</th>\n",
       "    </tr>\n",
       "  </thead>\n",
       "  <tbody>\n",
       "    <tr>\n",
       "      <th>183921</th>\n",
       "      <td>anonn</td>\n",
       "      <td>0.097743</td>\n",
       "      <td>0.097743</td>\n",
       "      <td>0.000000</td>\n",
       "      <td>0.0</td>\n",
       "      <td>0</td>\n",
       "      <td>1</td>\n",
       "      <td>0</td>\n",
       "      <td>[{\"time\":1243903124,\"comment_sentiment\":0.0977...</td>\n",
       "      <td>[{\"time\":1243903124,\"comment_sentiment\":0.0977...</td>\n",
       "      <td>1</td>\n",
       "    </tr>\n",
       "    <tr>\n",
       "      <th>183922</th>\n",
       "      <td>tikl1</td>\n",
       "      <td>-0.166667</td>\n",
       "      <td>0.000000</td>\n",
       "      <td>-0.166667</td>\n",
       "      <td>3.0</td>\n",
       "      <td>3</td>\n",
       "      <td>0</td>\n",
       "      <td>1</td>\n",
       "      <td>[{\"time\":1427198521,\"comment_sentiment\":-0.166...</td>\n",
       "      <td>[{\"time\":1427198521,\"comment_sentiment\":-0.166...</td>\n",
       "      <td>1</td>\n",
       "    </tr>\n",
       "    <tr>\n",
       "      <th>183923</th>\n",
       "      <td>autismjohndoe</td>\n",
       "      <td>0.195139</td>\n",
       "      <td>0.195139</td>\n",
       "      <td>0.000000</td>\n",
       "      <td>3.0</td>\n",
       "      <td>3</td>\n",
       "      <td>1</td>\n",
       "      <td>0</td>\n",
       "      <td>[{\"time\":1444150317,\"comment_sentiment\":0.1951...</td>\n",
       "      <td>[{\"time\":1444150317,\"comment_sentiment\":0.1951...</td>\n",
       "      <td>1</td>\n",
       "    </tr>\n",
       "    <tr>\n",
       "      <th>183924</th>\n",
       "      <td>alexf4v2</td>\n",
       "      <td>0.170455</td>\n",
       "      <td>0.170455</td>\n",
       "      <td>0.000000</td>\n",
       "      <td>5.0</td>\n",
       "      <td>5</td>\n",
       "      <td>1</td>\n",
       "      <td>0</td>\n",
       "      <td>[{\"time\":1309461809,\"comment_sentiment\":0.1704...</td>\n",
       "      <td>[{\"time\":1309461809,\"comment_sentiment\":0.1704...</td>\n",
       "      <td>1</td>\n",
       "    </tr>\n",
       "    <tr>\n",
       "      <th>183925</th>\n",
       "      <td>ilikedata</td>\n",
       "      <td>0.393750</td>\n",
       "      <td>0.393750</td>\n",
       "      <td>0.000000</td>\n",
       "      <td>0.0</td>\n",
       "      <td>0</td>\n",
       "      <td>1</td>\n",
       "      <td>0</td>\n",
       "      <td>[{\"time\":1349098841,\"comment_sentiment\":0.3937...</td>\n",
       "      <td>[{\"time\":1349098841,\"comment_sentiment\":0.3937...</td>\n",
       "      <td>1</td>\n",
       "    </tr>\n",
       "  </tbody>\n",
       "</table>\n",
       "</div>"
      ],
      "text/plain": [
       "            commentor  commentor_sentiment  commentor_total_happyness  \\\n",
       "183921          anonn             0.097743                   0.097743   \n",
       "183922          tikl1            -0.166667                   0.000000   \n",
       "183923  autismjohndoe             0.195139                   0.195139   \n",
       "183924       alexf4v2             0.170455                   0.170455   \n",
       "183925      ilikedata             0.393750                   0.393750   \n",
       "\n",
       "        commentor_total_saltiness  commentor_upvotes_mean  \\\n",
       "183921                   0.000000                     0.0   \n",
       "183922                  -0.166667                     3.0   \n",
       "183923                   0.000000                     3.0   \n",
       "183924                   0.000000                     5.0   \n",
       "183925                   0.000000                     0.0   \n",
       "\n",
       "        commentor_upvotes_total  qty_non_salty_comments  qty_salty_comments  \\\n",
       "183921                        0                       1                   0   \n",
       "183922                        3                       0                   1   \n",
       "183923                        3                       1                   0   \n",
       "183924                        5                       1                   0   \n",
       "183925                        0                       1                   0   \n",
       "\n",
       "                                           salty_comments  \\\n",
       "183921  [{\"time\":1243903124,\"comment_sentiment\":0.0977...   \n",
       "183922  [{\"time\":1427198521,\"comment_sentiment\":-0.166...   \n",
       "183923  [{\"time\":1444150317,\"comment_sentiment\":0.1951...   \n",
       "183924  [{\"time\":1309461809,\"comment_sentiment\":0.1704...   \n",
       "183925  [{\"time\":1349098841,\"comment_sentiment\":0.3937...   \n",
       "\n",
       "                                           sweet_comments  total_comments  \n",
       "183921  [{\"time\":1243903124,\"comment_sentiment\":0.0977...               1  \n",
       "183922  [{\"time\":1427198521,\"comment_sentiment\":-0.166...               1  \n",
       "183923  [{\"time\":1444150317,\"comment_sentiment\":0.1951...               1  \n",
       "183924  [{\"time\":1309461809,\"comment_sentiment\":0.1704...               1  \n",
       "183925  [{\"time\":1349098841,\"comment_sentiment\":0.3937...               1  "
      ]
     },
     "execution_count": 3,
     "metadata": {},
     "output_type": "execute_result"
    }
   ],
   "source": [
    "df.tail()"
   ]
  },
  {
   "cell_type": "markdown",
   "metadata": {},
   "source": [
    "### Make sure it isn't an encoding issue. Check each cell individually."
   ]
  },
  {
   "cell_type": "code",
   "execution_count": 4,
   "metadata": {},
   "outputs": [
    {
     "name": "stderr",
     "output_type": "stream",
     "text": [
      "/home/ec2-user/anaconda3/envs/python3/lib/python3.6/site-packages/ipykernel/__main__.py:4: FutureWarning: get_value is deprecated and will be removed in a future release. Please use .at[] or .iat[] accessors instead\n",
      "/home/ec2-user/anaconda3/envs/python3/lib/python3.6/site-packages/ipykernel/__main__.py:7: FutureWarning: set_value is deprecated and will be removed in a future release. Please use .at[] or .iat[] accessors instead\n"
     ]
    }
   ],
   "source": [
    "# This little section of code makes sure everything is encoding/decoding correctly. \n",
    "for column in df.columns:\n",
    "    for idx in df[column].index:\n",
    "        x = df.get_value(idx,column)\n",
    "        try:\n",
    "            x = x if type(x) == str else str(x).encode('utf-8','ignore').decode('utf-8','ignore')\n",
    "            df.set_value(idx,column,x)\n",
    "        except Exception:\n",
    "            print('encoding error: {0} {1}'.format(idx,column))\n",
    "            df.set_value(idx,column,'')\n",
    "            continue"
   ]
  },
  {
   "cell_type": "markdown",
   "metadata": {},
   "source": [
    "### Export the clean, intact data back to csv. "
   ]
  },
  {
   "cell_type": "code",
   "execution_count": 5,
   "metadata": {},
   "outputs": [],
   "source": [
    "df.to_csv('data/commentor_data_repaired.csv',index=False)"
   ]
  },
  {
   "cell_type": "markdown",
   "metadata": {},
   "source": [
    "### Reimport the data from CSV to DataFrame and inspect."
   ]
  },
  {
   "cell_type": "code",
   "execution_count": 6,
   "metadata": {},
   "outputs": [
    {
     "data": {
      "text/html": [
       "<div>\n",
       "<style scoped>\n",
       "    .dataframe tbody tr th:only-of-type {\n",
       "        vertical-align: middle;\n",
       "    }\n",
       "\n",
       "    .dataframe tbody tr th {\n",
       "        vertical-align: top;\n",
       "    }\n",
       "\n",
       "    .dataframe thead th {\n",
       "        text-align: right;\n",
       "    }\n",
       "</style>\n",
       "<table border=\"1\" class=\"dataframe\">\n",
       "  <thead>\n",
       "    <tr style=\"text-align: right;\">\n",
       "      <th></th>\n",
       "      <th>commentor</th>\n",
       "      <th>commentor_sentiment</th>\n",
       "      <th>commentor_total_happyness</th>\n",
       "      <th>commentor_total_saltiness</th>\n",
       "      <th>commentor_upvotes_mean</th>\n",
       "      <th>commentor_upvotes_total</th>\n",
       "      <th>qty_non_salty_comments</th>\n",
       "      <th>qty_salty_comments</th>\n",
       "      <th>salty_comments</th>\n",
       "      <th>sweet_comments</th>\n",
       "      <th>total_comments</th>\n",
       "    </tr>\n",
       "  </thead>\n",
       "  <tbody>\n",
       "    <tr>\n",
       "      <th>183921</th>\n",
       "      <td>anonn</td>\n",
       "      <td>0.097743</td>\n",
       "      <td>0.097743</td>\n",
       "      <td>0.000000</td>\n",
       "      <td>0.0</td>\n",
       "      <td>0</td>\n",
       "      <td>1</td>\n",
       "      <td>0</td>\n",
       "      <td>[{\"time\":1243903124,\"comment_sentiment\":0.0977...</td>\n",
       "      <td>[{\"time\":1243903124,\"comment_sentiment\":0.0977...</td>\n",
       "      <td>1</td>\n",
       "    </tr>\n",
       "    <tr>\n",
       "      <th>183922</th>\n",
       "      <td>tikl1</td>\n",
       "      <td>-0.166667</td>\n",
       "      <td>0.000000</td>\n",
       "      <td>-0.166667</td>\n",
       "      <td>3.0</td>\n",
       "      <td>3</td>\n",
       "      <td>0</td>\n",
       "      <td>1</td>\n",
       "      <td>[{\"time\":1427198521,\"comment_sentiment\":-0.166...</td>\n",
       "      <td>[{\"time\":1427198521,\"comment_sentiment\":-0.166...</td>\n",
       "      <td>1</td>\n",
       "    </tr>\n",
       "    <tr>\n",
       "      <th>183923</th>\n",
       "      <td>autismjohndoe</td>\n",
       "      <td>0.195139</td>\n",
       "      <td>0.195139</td>\n",
       "      <td>0.000000</td>\n",
       "      <td>3.0</td>\n",
       "      <td>3</td>\n",
       "      <td>1</td>\n",
       "      <td>0</td>\n",
       "      <td>[{\"time\":1444150317,\"comment_sentiment\":0.1951...</td>\n",
       "      <td>[{\"time\":1444150317,\"comment_sentiment\":0.1951...</td>\n",
       "      <td>1</td>\n",
       "    </tr>\n",
       "    <tr>\n",
       "      <th>183924</th>\n",
       "      <td>alexf4v2</td>\n",
       "      <td>0.170455</td>\n",
       "      <td>0.170455</td>\n",
       "      <td>0.000000</td>\n",
       "      <td>5.0</td>\n",
       "      <td>5</td>\n",
       "      <td>1</td>\n",
       "      <td>0</td>\n",
       "      <td>[{\"time\":1309461809,\"comment_sentiment\":0.1704...</td>\n",
       "      <td>[{\"time\":1309461809,\"comment_sentiment\":0.1704...</td>\n",
       "      <td>1</td>\n",
       "    </tr>\n",
       "    <tr>\n",
       "      <th>183925</th>\n",
       "      <td>ilikedata</td>\n",
       "      <td>0.393750</td>\n",
       "      <td>0.393750</td>\n",
       "      <td>0.000000</td>\n",
       "      <td>0.0</td>\n",
       "      <td>0</td>\n",
       "      <td>1</td>\n",
       "      <td>0</td>\n",
       "      <td>[{\"time\":1349098841,\"comment_sentiment\":0.3937...</td>\n",
       "      <td>[{\"time\":1349098841,\"comment_sentiment\":0.3937...</td>\n",
       "      <td>1</td>\n",
       "    </tr>\n",
       "  </tbody>\n",
       "</table>\n",
       "</div>"
      ],
      "text/plain": [
       "            commentor  commentor_sentiment  commentor_total_happyness  \\\n",
       "183921          anonn             0.097743                   0.097743   \n",
       "183922          tikl1            -0.166667                   0.000000   \n",
       "183923  autismjohndoe             0.195139                   0.195139   \n",
       "183924       alexf4v2             0.170455                   0.170455   \n",
       "183925      ilikedata             0.393750                   0.393750   \n",
       "\n",
       "        commentor_total_saltiness  commentor_upvotes_mean  \\\n",
       "183921                   0.000000                     0.0   \n",
       "183922                  -0.166667                     3.0   \n",
       "183923                   0.000000                     3.0   \n",
       "183924                   0.000000                     5.0   \n",
       "183925                   0.000000                     0.0   \n",
       "\n",
       "        commentor_upvotes_total  qty_non_salty_comments  qty_salty_comments  \\\n",
       "183921                        0                       1                   0   \n",
       "183922                        3                       0                   1   \n",
       "183923                        3                       1                   0   \n",
       "183924                        5                       1                   0   \n",
       "183925                        0                       1                   0   \n",
       "\n",
       "                                           salty_comments  \\\n",
       "183921  [{\"time\":1243903124,\"comment_sentiment\":0.0977...   \n",
       "183922  [{\"time\":1427198521,\"comment_sentiment\":-0.166...   \n",
       "183923  [{\"time\":1444150317,\"comment_sentiment\":0.1951...   \n",
       "183924  [{\"time\":1309461809,\"comment_sentiment\":0.1704...   \n",
       "183925  [{\"time\":1349098841,\"comment_sentiment\":0.3937...   \n",
       "\n",
       "                                           sweet_comments  total_comments  \n",
       "183921  [{\"time\":1243903124,\"comment_sentiment\":0.0977...               1  \n",
       "183922  [{\"time\":1427198521,\"comment_sentiment\":-0.166...               1  \n",
       "183923  [{\"time\":1444150317,\"comment_sentiment\":0.1951...               1  \n",
       "183924  [{\"time\":1309461809,\"comment_sentiment\":0.1704...               1  \n",
       "183925  [{\"time\":1349098841,\"comment_sentiment\":0.3937...               1  "
      ]
     },
     "execution_count": 6,
     "metadata": {},
     "output_type": "execute_result"
    }
   ],
   "source": [
    "df2 = pd.read_csv(\"data/commentor_data_repaired.csv\")\n",
    "df2.tail()"
   ]
  },
  {
   "cell_type": "code",
   "execution_count": 7,
   "metadata": {},
   "outputs": [
    {
     "data": {
      "text/plain": [
       "(183926, 11)"
      ]
     },
     "execution_count": 7,
     "metadata": {},
     "output_type": "execute_result"
    }
   ],
   "source": [
    "df2.shape"
   ]
  },
  {
   "cell_type": "markdown",
   "metadata": {},
   "source": [
    "# AND IT WORKED! "
   ]
  }
 ],
 "metadata": {
  "kernelspec": {
   "display_name": "conda_python3",
   "language": "python",
   "name": "conda_python3"
  },
  "language_info": {
   "codemirror_mode": {
    "name": "ipython",
    "version": 3
   },
   "file_extension": ".py",
   "mimetype": "text/x-python",
   "name": "python",
   "nbconvert_exporter": "python",
   "pygments_lexer": "ipython3",
   "version": "3.6.5"
  }
 },
 "nbformat": 4,
 "nbformat_minor": 2
}
